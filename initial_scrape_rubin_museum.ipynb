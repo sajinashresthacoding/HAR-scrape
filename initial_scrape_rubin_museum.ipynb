{
 "cells": [
  {
   "cell_type": "code",
   "execution_count": 1,
   "id": "e5d7a655",
   "metadata": {},
   "outputs": [],
   "source": [
    "##import libraries\n",
    "import pandas as pd\n",
    "import requests\n",
    "from bs4 import BeautifulSoup\n",
    "import time\n",
    "from random import randrange"
   ]
  },
  {
   "cell_type": "code",
   "execution_count": 2,
   "id": "70cf4a6b",
   "metadata": {},
   "outputs": [
    {
     "name": "stdout",
     "output_type": "stream",
     "text": [
      "Requirement already satisfied: wget in /Users/sajinashrestha/opt/anaconda3/lib/python3.9/site-packages (3.2)\n",
      "Note: you may need to restart the kernel to use updated packages.\n"
     ]
    }
   ],
   "source": [
    "pip install wget"
   ]
  },
  {
   "cell_type": "code",
   "execution_count": 3,
   "id": "2e5b4fe6",
   "metadata": {},
   "outputs": [],
   "source": [
    "import wget"
   ]
  },
  {
   "cell_type": "code",
   "execution_count": 4,
   "id": "6a7a6c39",
   "metadata": {},
   "outputs": [],
   "source": [
    "def mk_request(url):\n",
    "    '''\n",
    "    Takes the url and gives you status and returns responses\n",
    "    '''\n",
    "    response = requests.get(url)\n",
    "    if 200 <= response.status_code < 400:\n",
    "        return response\n",
    "    else:\n",
    "        print(f\"request returned {response.status_code}error\")"
   ]
  },
  {
   "cell_type": "code",
   "execution_count": 5,
   "id": "cadf9cff",
   "metadata": {},
   "outputs": [],
   "source": [
    "## test the url\n",
    "\n",
    "myurl = \"https://www.himalayanart.org/search/set.cfm?setID=179\""
   ]
  },
  {
   "cell_type": "code",
   "execution_count": 6,
   "id": "4db6cc8b",
   "metadata": {},
   "outputs": [
    {
     "data": {
      "text/plain": [
       "<Response [200]>"
      ]
     },
     "execution_count": 6,
     "metadata": {},
     "output_type": "execute_result"
    }
   ],
   "source": [
    "mk_request(myurl)"
   ]
  },
  {
   "cell_type": "code",
   "execution_count": 7,
   "id": "51694466",
   "metadata": {},
   "outputs": [],
   "source": [
    "##making soup\n",
    "def mk_soup(response):\n",
    "    '''\n",
    "    makes soup out of the response you give\n",
    "    '''\n",
    "    return BeautifulSoup(response.text, \"html.parser\")"
   ]
  },
  {
   "cell_type": "code",
   "execution_count": 8,
   "id": "360ca361",
   "metadata": {},
   "outputs": [],
   "source": [
    "## mother function that makes request and soup\n",
    "def scrapes(url):\n",
    "    '''\n",
    "    give it a url to return docsoup of a page\n",
    "    '''\n",
    "    return mk_soup(mk_request(url))"
   ]
  },
  {
   "cell_type": "code",
   "execution_count": 9,
   "id": "fa16192f",
   "metadata": {},
   "outputs": [],
   "source": [
    "##let's gather all the urls\n",
    "start = \"https://www.himalayanart.org/search/set.cfm?setID=179&page=\""
   ]
  },
  {
   "cell_type": "code",
   "execution_count": null,
   "id": "4e53dea7",
   "metadata": {},
   "outputs": [],
   "source": [
    "ends: [1:17]"
   ]
  },
  {
   "cell_type": "code",
   "execution_count": null,
   "id": "17354747",
   "metadata": {},
   "outputs": [],
   "source": [
    ">>> lst = range(5)\n",
    ">>> for i in lst:\n",
    "...     print i\n",
    "...     if i < 3:\n",
    "...         lst.append(i + 10)\n"
   ]
  },
  {
   "cell_type": "code",
   "execution_count": null,
   "id": "8c2f8f4e",
   "metadata": {},
   "outputs": [],
   "source": [
    "lst = range(5)\n",
    ">>> for i in lst:\n",
    "...     print i\n",
    "...     if i < 3:\n",
    "...         lst.append(i + 10)"
   ]
  },
  {
   "cell_type": "code",
   "execution_count": 28,
   "id": "42e1e2f1",
   "metadata": {},
   "outputs": [
    {
     "name": "stdout",
     "output_type": "stream",
     "text": [
      "https://www.himalayanart.org/search/set.cfm?setID=179&page=0\n",
      "https://www.himalayanart.org/search/set.cfm?setID=179&page=1\n",
      "https://www.himalayanart.org/search/set.cfm?setID=179&page=2\n",
      "https://www.himalayanart.org/search/set.cfm?setID=179&page=3\n",
      "https://www.himalayanart.org/search/set.cfm?setID=179&page=4\n",
      "https://www.himalayanart.org/search/set.cfm?setID=179&page=5\n",
      "https://www.himalayanart.org/search/set.cfm?setID=179&page=6\n",
      "https://www.himalayanart.org/search/set.cfm?setID=179&page=7\n",
      "https://www.himalayanart.org/search/set.cfm?setID=179&page=8\n",
      "https://www.himalayanart.org/search/set.cfm?setID=179&page=9\n",
      "https://www.himalayanart.org/search/set.cfm?setID=179&page=10\n",
      "https://www.himalayanart.org/search/set.cfm?setID=179&page=11\n",
      "https://www.himalayanart.org/search/set.cfm?setID=179&page=12\n",
      "https://www.himalayanart.org/search/set.cfm?setID=179&page=13\n",
      "https://www.himalayanart.org/search/set.cfm?setID=179&page=14\n",
      "https://www.himalayanart.org/search/set.cfm?setID=179&page=15\n",
      "https://www.himalayanart.org/search/set.cfm?setID=179&page=16\n",
      "https://www.himalayanart.org/search/set.cfm?setID=179&page=17\n"
     ]
    }
   ],
   "source": [
    "##17 is where the pages stop\n",
    "\n",
    "numbers = range(18)\n",
    "all_urls = []\n",
    "\n",
    "\n",
    "for number in numbers:\n",
    "    if number <= 18:\n",
    "        print(f\"{start}{number}\")\n",
    "        all_urls.append(f\"{start}{number}\")\n",
    "        number + 1\n",
    "    else:\n",
    "        print(\"try again\")"
   ]
  },
  {
   "cell_type": "code",
   "execution_count": 31,
   "id": "9a3d2b5f",
   "metadata": {},
   "outputs": [],
   "source": [
    "##pages are from 1-17\n",
    "del all_urls[0]"
   ]
  },
  {
   "cell_type": "code",
   "execution_count": 32,
   "id": "e152a58e",
   "metadata": {},
   "outputs": [
    {
     "data": {
      "text/plain": [
       "['https://www.himalayanart.org/search/set.cfm?setID=179&page=1',\n",
       " 'https://www.himalayanart.org/search/set.cfm?setID=179&page=2',\n",
       " 'https://www.himalayanart.org/search/set.cfm?setID=179&page=3',\n",
       " 'https://www.himalayanart.org/search/set.cfm?setID=179&page=4',\n",
       " 'https://www.himalayanart.org/search/set.cfm?setID=179&page=5',\n",
       " 'https://www.himalayanart.org/search/set.cfm?setID=179&page=6',\n",
       " 'https://www.himalayanart.org/search/set.cfm?setID=179&page=7',\n",
       " 'https://www.himalayanart.org/search/set.cfm?setID=179&page=8',\n",
       " 'https://www.himalayanart.org/search/set.cfm?setID=179&page=9',\n",
       " 'https://www.himalayanart.org/search/set.cfm?setID=179&page=10',\n",
       " 'https://www.himalayanart.org/search/set.cfm?setID=179&page=11',\n",
       " 'https://www.himalayanart.org/search/set.cfm?setID=179&page=12',\n",
       " 'https://www.himalayanart.org/search/set.cfm?setID=179&page=13',\n",
       " 'https://www.himalayanart.org/search/set.cfm?setID=179&page=14',\n",
       " 'https://www.himalayanart.org/search/set.cfm?setID=179&page=15',\n",
       " 'https://www.himalayanart.org/search/set.cfm?setID=179&page=16',\n",
       " 'https://www.himalayanart.org/search/set.cfm?setID=179&page=17']"
      ]
     },
     "execution_count": 32,
     "metadata": {},
     "output_type": "execute_result"
    }
   ],
   "source": [
    "all_urls"
   ]
  },
  {
   "cell_type": "code",
   "execution_count": 33,
   "id": "3340b472",
   "metadata": {},
   "outputs": [
    {
     "name": "stdout",
     "output_type": "stream",
     "text": [
      "<Response [200]>\n",
      "<Response [200]>\n",
      "<Response [200]>\n",
      "<Response [200]>\n",
      "<Response [200]>\n",
      "<Response [200]>\n",
      "<Response [200]>\n",
      "<Response [200]>\n",
      "<Response [200]>\n",
      "<Response [200]>\n",
      "<Response [200]>\n",
      "<Response [200]>\n",
      "<Response [200]>\n",
      "<Response [200]>\n",
      "<Response [200]>\n",
      "<Response [200]>\n",
      "<Response [200]>\n"
     ]
    }
   ],
   "source": [
    "##checking for broken links\n",
    "for url in all_urls:\n",
    "    print(mk_request(url))"
   ]
  },
  {
   "cell_type": "code",
   "execution_count": null,
   "id": "bb76833d",
   "metadata": {},
   "outputs": [],
   "source": []
  }
 ],
 "metadata": {
  "kernelspec": {
   "display_name": "Python 3 (ipykernel)",
   "language": "python",
   "name": "python3"
  },
  "language_info": {
   "codemirror_mode": {
    "name": "ipython",
    "version": 3
   },
   "file_extension": ".py",
   "mimetype": "text/x-python",
   "name": "python",
   "nbconvert_exporter": "python",
   "pygments_lexer": "ipython3",
   "version": "3.9.13"
  }
 },
 "nbformat": 4,
 "nbformat_minor": 5
}
